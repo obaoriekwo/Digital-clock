{
 "cells": [
  {
   "cell_type": "code",
   "execution_count": null,
   "metadata": {},
   "outputs": [],
   "source": [
    "Digital clock\n",
    "from tkinter import \n",
    "from time import strftime\n",
    "\n",
    "root = TK()\n",
    "root.title(\"Digital Computer Clock\")\n",
    "\n",
    "def time():\n",
    "    string = strftime(\"%H:%M:%S %p\")\n",
    "    lbl.config(text = string)\n",
    "    lbl.after(100, time)\n",
    "\n",
    "lbl = Label(root, font = \"arial\", 160, \"bold\", bg=\"black\", fg=\"white\")\n",
    "\n",
    "lbl.pack(anchor = \"center\",fill = \"both\",expand=1)\n",
    "\n",
    "time()\n",
    "\n",
    "mainloop()"
   ]
  }
 ],
 "metadata": {
  "kernelspec": {
   "display_name": "Python 3",
   "language": "python",
   "name": "python3"
  },
  "language_info": {
   "codemirror_mode": {
    "name": "ipython",
    "version": 3
   },
   "file_extension": ".py",
   "mimetype": "text/x-python",
   "name": "python",
   "nbconvert_exporter": "python",
   "pygments_lexer": "ipython3",
   "version": "3.7.4"
  }
 },
 "nbformat": 4,
 "nbformat_minor": 2
}
